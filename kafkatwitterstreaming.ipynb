{
  "nbformat": 4,
  "nbformat_minor": 0,
  "metadata": {
    "colab": {
      "name": "kafkatwitterstreaming.ipynb",
      "provenance": [],
      "authorship_tag": "ABX9TyP+U1/GGRu4eD8nBgxzFWmV",
      "include_colab_link": true
    },
    "kernelspec": {
      "name": "python3",
      "display_name": "Python 3"
    },
    "language_info": {
      "name": "python"
    }
  },
  "cells": [
    {
      "cell_type": "markdown",
      "metadata": {
        "id": "view-in-github",
        "colab_type": "text"
      },
      "source": [
        "<a href=\"https://colab.research.google.com/github/sandeeplucknow/firstcodeingit/blob/main/kafkatwitterstreaming.ipynb\" target=\"_parent\"><img src=\"https://colab.research.google.com/assets/colab-badge.svg\" alt=\"Open In Colab\"/></a>"
      ]
    },
    {
      "cell_type": "code",
      "execution_count": 1,
      "metadata": {
        "id": "wkOF11e9HhId"
      },
      "outputs": [],
      "source": [
        "import numpy as np"
      ]
    },
    {
      "cell_type": "code",
      "source": [
        "import tweepy"
      ],
      "metadata": {
        "id": "bOMOLNSNHsR5"
      },
      "execution_count": 2,
      "outputs": []
    },
    {
      "cell_type": "code",
      "source": [
        "from tweepy import OAuthHandler"
      ],
      "metadata": {
        "id": "il_DSzQtHyQY"
      },
      "execution_count": 3,
      "outputs": []
    },
    {
      "cell_type": "code",
      "source": [
        "from tweepy.streaming import StreamListener"
      ],
      "metadata": {
        "id": "nk_L9PgbH6NQ"
      },
      "execution_count": 4,
      "outputs": []
    },
    {
      "cell_type": "code",
      "source": [
        ""
      ],
      "metadata": {
        "id": "Q8lUP4j4IYjf"
      },
      "execution_count": null,
      "outputs": []
    },
    {
      "cell_type": "code",
      "source": [
        ""
      ],
      "metadata": {
        "id": "KW_AOLZjIY9B"
      },
      "execution_count": null,
      "outputs": []
    },
    {
      "cell_type": "code",
      "source": [
        "from tweepy.streaming import StreamListener\n",
        "from tweepy import OAuthHandler\n",
        "from tweepy import Stream\n",
        "from kafka import SimpleProducer, KafkaClient\n",
        "import time\n",
        "\n",
        "access_token = \"748200460067045376-zYxRRyxiPIywcw2IV50IQiIxzQVN5FZ\"\n",
        "access_token_secret =  \"c6dRkeRbgPqtbWAOTz0OfOMpBvhZS6KqWFjtEqHBEv7me\"\n",
        "consumer_key =  \"ukUrCrJdd6MQQd0HQBzCDwcLq\"\n",
        "consumer_secret =  \"VCf2wU1MhedUFnQeCwffzstdVkF7rbURzoNNDAdPPvbWfDtggP\"\n",
        "kafka_endpoint = \"ip-20-0-32-4.ap-south-1.compute.internal:9092\"\n",
        "kafka_topic = \"rk_hadoop\"\n",
        "twitter_hash_tag = \"RamNavami\"\n",
        "time_limit = 10\n",
        "\n",
        "class StdOutListener(StreamListener):\n",
        "\tdef __init__(self, time_limit=time_limit):\n",
        "\t\tself.start_time = time.time()\n",
        "\t\tself.limit = time_limit\n",
        "\t\tsuper(StdOutListener, self).__init__()\n",
        "\tdef on_data(self, data):\n",
        "\t\tif (time.time() - self.start_time) < self.limit:\n",
        "            #msg = json.loads(data)\n",
        "\t\t\tproducer.send_messages(kafka_topic, data.encode('utf-8'))\n",
        "\t\t\tprint (data)\n",
        "\t\t\treturn True\n",
        "\t\texit(0)\n",
        "\tdef on_error(self, status):\n",
        "\t\tprint (status)\n",
        "\n",
        "kafka = KafkaClient(kafka_endpoint)\n",
        "producer = SimpleProducer(kafka)\n",
        "l = StdOutListener()\n",
        "auth = OAuthHandler(consumer_key, consumer_secret)\n",
        "auth.set_access_token(access_token, access_token_secret)\n",
        "stream = Stream(auth, l)\n",
        "stream.filter(track=twitter_hash_tag)"
      ],
      "metadata": {
        "id": "AUiQfdvfHyfx"
      },
      "execution_count": null,
      "outputs": []
    }
  ]
}